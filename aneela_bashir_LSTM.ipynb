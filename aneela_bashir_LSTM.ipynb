{
  "nbformat": 4,
  "nbformat_minor": 0,
  "metadata": {
    "colab": {
      "provenance": [],
      "authorship_tag": "ABX9TyN4zLLAjIo7tjYQElw4B4Ad",
      "include_colab_link": true
    },
    "kernelspec": {
      "name": "python3",
      "display_name": "Python 3"
    },
    "language_info": {
      "name": "python"
    }
  },
  "cells": [
    {
      "cell_type": "markdown",
      "metadata": {
        "id": "view-in-github",
        "colab_type": "text"
      },
      "source": [
        "<a href=\"https://colab.research.google.com/github/aneelabashir786/AI-ML-Tasks/blob/main/aneela_bashir_LSTM.ipynb\" target=\"_parent\"><img src=\"https://colab.research.google.com/assets/colab-badge.svg\" alt=\"Open In Colab\"/></a>"
      ]
    },
    {
      "cell_type": "code",
      "execution_count": 1,
      "metadata": {
        "colab": {
          "base_uri": "https://localhost:8080/"
        },
        "id": "D9HmKiBfS8Np",
        "outputId": "ae89e1ee-123e-4473-fd0b-644bc650a8db"
      },
      "outputs": [
        {
          "output_type": "stream",
          "name": "stdout",
          "text": [
            "Requirement already satisfied: clean-text in /usr/local/lib/python3.11/dist-packages (0.6.0)\n",
            "Requirement already satisfied: emoji<2.0.0,>=1.0.0 in /usr/local/lib/python3.11/dist-packages (from clean-text) (1.7.0)\n",
            "Requirement already satisfied: ftfy<7.0,>=6.0 in /usr/local/lib/python3.11/dist-packages (from clean-text) (6.3.1)\n",
            "Requirement already satisfied: wcwidth in /usr/local/lib/python3.11/dist-packages (from ftfy<7.0,>=6.0->clean-text) (0.2.13)\n",
            "Requirement already satisfied: Unidecode in /usr/local/lib/python3.11/dist-packages (1.4.0)\n",
            "Requirement already satisfied: nltk in /usr/local/lib/python3.11/dist-packages (3.9.1)\n",
            "Requirement already satisfied: click in /usr/local/lib/python3.11/dist-packages (from nltk) (8.2.1)\n",
            "Requirement already satisfied: joblib in /usr/local/lib/python3.11/dist-packages (from nltk) (1.5.1)\n",
            "Requirement already satisfied: regex>=2021.8.3 in /usr/local/lib/python3.11/dist-packages (from nltk) (2024.11.6)\n",
            "Requirement already satisfied: tqdm in /usr/local/lib/python3.11/dist-packages (from nltk) (4.67.1)\n",
            "Requirement already satisfied: gensim in /usr/local/lib/python3.11/dist-packages (4.3.3)\n",
            "Requirement already satisfied: keras in /usr/local/lib/python3.11/dist-packages (3.10.0)\n",
            "Requirement already satisfied: numpy<2.0,>=1.18.5 in /usr/local/lib/python3.11/dist-packages (from gensim) (1.26.4)\n",
            "Requirement already satisfied: scipy<1.14.0,>=1.7.0 in /usr/local/lib/python3.11/dist-packages (from gensim) (1.13.1)\n",
            "Requirement already satisfied: smart-open>=1.8.1 in /usr/local/lib/python3.11/dist-packages (from gensim) (7.3.0.post1)\n",
            "Requirement already satisfied: absl-py in /usr/local/lib/python3.11/dist-packages (from keras) (1.4.0)\n",
            "Requirement already satisfied: rich in /usr/local/lib/python3.11/dist-packages (from keras) (13.9.4)\n",
            "Requirement already satisfied: namex in /usr/local/lib/python3.11/dist-packages (from keras) (0.1.0)\n",
            "Requirement already satisfied: h5py in /usr/local/lib/python3.11/dist-packages (from keras) (3.14.0)\n",
            "Requirement already satisfied: optree in /usr/local/lib/python3.11/dist-packages (from keras) (0.17.0)\n",
            "Requirement already satisfied: ml-dtypes in /usr/local/lib/python3.11/dist-packages (from keras) (0.5.3)\n",
            "Requirement already satisfied: packaging in /usr/local/lib/python3.11/dist-packages (from keras) (25.0)\n",
            "Requirement already satisfied: wrapt in /usr/local/lib/python3.11/dist-packages (from smart-open>=1.8.1->gensim) (1.17.2)\n",
            "Requirement already satisfied: typing-extensions>=4.6.0 in /usr/local/lib/python3.11/dist-packages (from optree->keras) (4.14.1)\n",
            "Requirement already satisfied: markdown-it-py>=2.2.0 in /usr/local/lib/python3.11/dist-packages (from rich->keras) (3.0.0)\n",
            "Requirement already satisfied: pygments<3.0.0,>=2.13.0 in /usr/local/lib/python3.11/dist-packages (from rich->keras) (2.19.2)\n",
            "Requirement already satisfied: mdurl~=0.1 in /usr/local/lib/python3.11/dist-packages (from markdown-it-py>=2.2.0->rich->keras) (0.1.2)\n"
          ]
        }
      ],
      "source": [
        "!pip install clean-text        # For cleaning and preprocessing text\n",
        "!pip install Unidecode         # For converting Unicode text to ASCII\n",
        "!pip install nltk              # Natural Language Toolkit - used for tokenization, stopwords, POS tagging, etc.\n",
        "!pip install gensim keras      # Gensim: For Word2Vec embeddings; Keras: For building and training deep learning models (RNN, LSTM, etc.)\n"
      ]
    },
    {
      "cell_type": "code",
      "source": [
        "import nltk                                 # Natural Language Toolkit for text processing\n",
        "nltk.download('stopwords')\n",
        "nltk.download('punkt')                        # Pre-trained tokenizer for word/sentence tokenization\n",
        "nltk.download('punkt_tab')                   # Internal helper file for 'punkt' (usually auto-installed with 'punkt')\n",
        "nltk.download('averaged_perceptron_tagger')  # POS tagger needed for part-of-speech tagging\n",
        "nltk.download('wordnet')                     # WordNet lexical database (used for lemmatization and synonym replacement)\n",
        "nltk.download('omw-1.4')                     # Open Multilingual WordNet – supports multilingual WordNet and SynonymAug"
      ],
      "metadata": {
        "colab": {
          "base_uri": "https://localhost:8080/"
        },
        "id": "R7M54wIjTBR1",
        "outputId": "58d48411-fd52-4125-c746-0bd95506c698"
      },
      "execution_count": 2,
      "outputs": [
        {
          "output_type": "stream",
          "name": "stderr",
          "text": [
            "[nltk_data] Downloading package stopwords to /root/nltk_data...\n",
            "[nltk_data]   Package stopwords is already up-to-date!\n",
            "[nltk_data] Downloading package punkt to /root/nltk_data...\n",
            "[nltk_data]   Package punkt is already up-to-date!\n",
            "[nltk_data] Downloading package punkt_tab to /root/nltk_data...\n",
            "[nltk_data]   Package punkt_tab is already up-to-date!\n",
            "[nltk_data] Downloading package averaged_perceptron_tagger to\n",
            "[nltk_data]     /root/nltk_data...\n",
            "[nltk_data]   Package averaged_perceptron_tagger is already up-to-\n",
            "[nltk_data]       date!\n",
            "[nltk_data] Downloading package wordnet to /root/nltk_data...\n",
            "[nltk_data]   Package wordnet is already up-to-date!\n",
            "[nltk_data] Downloading package omw-1.4 to /root/nltk_data...\n",
            "[nltk_data]   Package omw-1.4 is already up-to-date!\n"
          ]
        },
        {
          "output_type": "execute_result",
          "data": {
            "text/plain": [
              "True"
            ]
          },
          "metadata": {},
          "execution_count": 2
        }
      ]
    },
    {
      "cell_type": "code",
      "source": [
        "\n",
        "# 1. Imports\n",
        "\n",
        "import numpy as np\n",
        "import pandas as pd\n",
        "import matplotlib.pyplot as plt\n",
        "import seaborn as sns\n",
        "import dill\n",
        "import joblib\n",
        "\n",
        "from nltk.corpus import stopwords\n",
        "from nltk.tokenize import word_tokenize\n",
        "from cleantext import clean\n",
        "\n",
        "from sklearn.preprocessing import LabelEncoder\n",
        "from sklearn.model_selection import train_test_split\n",
        "from sklearn.metrics import classification_report, confusion_matrix\n",
        "\n",
        "from tensorflow.keras.models import Sequential\n",
        "from tensorflow.keras.layers import Embedding, LSTM, Dense\n",
        "from tensorflow.keras.utils import to_categorical\n",
        "from tensorflow.keras.callbacks import EarlyStopping\n",
        "from tensorflow.keras.preprocessing.sequence import pad_sequences\n",
        "\n",
        "from gensim.models import Word2Vec\n",
        "\n",
        "# 2. Load and Filter Data\n",
        "\n",
        "df = pd.read_csv(\"reddit_posts_and_comments.csv\")[['post_text', 'subreddit']]\n",
        "selected_categories = ['Alzheimers', 'povertyfinance', 'GetMotivated']\n",
        "df = df[df['subreddit'].isin(selected_categories)]\n",
        "\n",
        "\n",
        "# 3. Class Distribution Visualization\n",
        "\n",
        "plt.figure(figsize=(8, 6))\n",
        "df['subreddit'].value_counts().plot(kind='bar')\n",
        "plt.xlabel('Subreddit')\n",
        "plt.ylabel('Number of Posts')\n",
        "plt.title('Class Distribution')\n",
        "plt.show()\n",
        "\n",
        "\n",
        "# 4. Handle Missing Values\n",
        "\n",
        "print(\"Missing post_text count by subreddit:\\n\",\n",
        "      df[df['post_text'].isnull()]['subreddit'].value_counts())\n",
        "df['post_text'] = df['post_text'].fillna('unknown')\n",
        "\n",
        "\n",
        "# 5. Save Stopwords for Future Use\n",
        "\n",
        "stop_words = set(stopwords.words('english'))\n",
        "joblib.dump(stop_words, \"stopwords.pkl\")\n",
        "\n",
        "\n",
        "# 6. Define Preprocessing Function\n",
        "\n",
        "def preprocess_text_train(text, stop_words):\n",
        "    # Clean text\n",
        "    cleaned = clean(\n",
        "        str(text),\n",
        "        lower=True,\n",
        "        no_urls=True, no_emails=True, no_phone_numbers=True,\n",
        "        no_digits=True, no_numbers=True, no_currency_symbols=True, no_punct=True,\n",
        "        lang=\"en\"\n",
        "    )\n",
        "    # Remove short words\n",
        "    cleaned = ' '.join([w for w in cleaned.split() if len(w) > 2])\n",
        "    # Remove stopwords\n",
        "    cleaned = ' '.join([w for w in cleaned.split() if w not in stop_words])\n",
        "    # Tokenize\n",
        "    tokens = word_tokenize(cleaned)\n",
        "    return tokens\n",
        "\n",
        "# Apply preprocessing\n",
        "df['post_text'] = df['post_text'].apply(lambda x: preprocess_text_train(x, stop_words))\n",
        "\n",
        "\n",
        "# 7. Label Encoding\n",
        "\n",
        "le = LabelEncoder()\n",
        "df['subreddit'] = le.fit_transform(df['subreddit'])\n",
        "\n",
        "\n",
        "# 8. Train Word2Vec Embeddings\n",
        "\n",
        "tokenized_posts = df['post_text']\n",
        "w2v_model = Word2Vec(sentences=tokenized_posts, vector_size=100,\n",
        "                     window=5, min_count=1, workers=4)\n",
        "\n",
        "word_index = {word: i + 1 for i, word in enumerate(w2v_model.wv.index_to_key)}\n",
        "vocab_size = len(word_index) + 1\n",
        "embedding_dim = w2v_model.vector_size\n",
        "\n",
        "# Embedding matrix\n",
        "embedding_matrix = np.zeros((vocab_size, embedding_dim))\n",
        "for word, i in word_index.items():\n",
        "    embedding_matrix[i] = w2v_model.wv[word]\n",
        "\n",
        "# Convert text to sequences\n",
        "post_sequences = tokenized_posts.apply(lambda tokens: [word_index.get(word, 0) for word in tokens])\n",
        "max_len = 100\n",
        "padded_sequences = pad_sequences(post_sequences, maxlen=max_len, padding='post', truncating='post')\n",
        "\n",
        "\n",
        "# 9. Train-Test Split\n",
        "\n",
        "X = padded_sequences\n",
        "y = to_categorical(df['subreddit'])\n",
        "X_train, X_test, y_train, y_test = train_test_split(X, y, test_size=0.2,\n",
        "                                                    random_state=42, stratify=y)\n",
        "\n",
        "\n",
        "# 10. Build and Train LSTM Model\n",
        "\n",
        "model = Sequential([\n",
        "    Embedding(input_dim=vocab_size, output_dim=embedding_dim,\n",
        "              weights=[embedding_matrix], input_length=max_len, trainable=True),\n",
        "    LSTM(64),\n",
        "    Dense(y.shape[1], activation='softmax')\n",
        "])\n",
        "model.compile(loss='categorical_crossentropy', optimizer='adam', metrics=['accuracy'])\n",
        "\n",
        "early_stop = EarlyStopping(monitor='val_loss', patience=3, restore_best_weights=True)\n",
        "model.fit(X_train, y_train, validation_data=(X_test, y_test),\n",
        "          epochs=20, batch_size=32, callbacks=[early_stop])\n",
        "\n",
        "# Evaluate\n",
        "loss, accuracy = model.evaluate(X_test, y_test)\n",
        "print(\"LSTM Test Accuracy:\", accuracy)\n",
        "\n",
        "\n",
        "# 11. Save Model and Assets\n",
        "\n",
        "model.save(\"lstm_model.h5\")\n",
        "joblib.dump(word_index, \"word_index.pkl\")\n",
        "joblib.dump(le, \"label_encoder.pkl\")\n",
        "\n",
        "# Save preprocessing function\n",
        "with open(\"preprocessing.pkl\", \"wb\") as f:\n",
        "    dill.dump(preprocess_text_train, f)\n",
        "\n",
        "print(\"Model and preprocessing files saved!\")\n",
        "\n",
        "\n",
        "# 12. Classification Report and Confusion Matrix\n",
        "\n",
        "y_pred = np.argmax(model.predict(X_test), axis=1)\n",
        "y_true = np.argmax(y_test, axis=1)\n",
        "\n",
        "print(\"Classification Report:\\n\", classification_report(y_true, y_pred))\n",
        "cm = confusion_matrix(y_true, y_pred)\n",
        "plt.figure(figsize=(6, 4))\n",
        "sns.heatmap(cm, annot=True, fmt='d', cmap='Blues')\n",
        "plt.xlabel('Predicted')\n",
        "plt.ylabel('Actual')\n",
        "plt.title('Confusion Matrix')\n",
        "plt.show()\n"
      ],
      "metadata": {
        "colab": {
          "base_uri": "https://localhost:8080/",
          "height": 1000
        },
        "id": "QC8HpfzpTDlR",
        "outputId": "dccf288d-9344-47b6-942d-cad6c949ab1f"
      },
      "execution_count": 4,
      "outputs": [
        {
          "output_type": "display_data",
          "data": {
            "text/plain": [
              "<Figure size 800x600 with 1 Axes>"
            ],
            "image/png": "[encoded data removed]"
          },
          "metadata": {}
        },
        {
          "output_type": "stream",
          "name": "stdout",
          "text": [
            "Missing post_text count by subreddit:\n",
            " subreddit\n",
            "GetMotivated      92\n",
            "povertyfinance    39\n",
            "Alzheimers        15\n",
            "Name: count, dtype: int64\n",
            "Epoch 1/20\n"
          ]
        },
        {
          "output_type": "stream",
          "name": "stderr",
          "text": [
            "/usr/local/lib/python3.11/dist-packages/keras/src/layers/core/embedding.py:97: UserWarning: Argument `input_length` is deprecated. Just remove it.\n",
            "  warnings.warn(\n"
          ]
        },
        {
          "output_type": "stream",
          "name": "stdout",
          "text": [
            "\u001b[1m32/32\u001b[0m \u001b[32m━━━━━━━━━━━━━━━━━━━━\u001b[0m\u001b[37m\u001b[0m \u001b[1m3s\u001b[0m 52ms/step - accuracy: 0.4163 - loss: 1.0840 - val_accuracy: 0.3968 - val_loss: 1.0653\n",
            "Epoch 2/20\n",
            "\u001b[1m32/32\u001b[0m \u001b[32m━━━━━━━━━━━━━━━━━━━━\u001b[0m\u001b[37m\u001b[0m \u001b[1m3s\u001b[0m 53ms/step - accuracy: 0.4294 - loss: 1.0522 - val_accuracy: 0.4206 - val_loss: 1.0233\n",
            "Epoch 3/20\n",
            "\u001b[1m32/32\u001b[0m \u001b[32m━━━━━━━━━━━━━━━━━━━━\u001b[0m\u001b[37m\u001b[0m \u001b[1m2s\u001b[0m 43ms/step - accuracy: 0.4968 - loss: 0.9887 - val_accuracy: 0.5595 - val_loss: 0.8650\n",
            "Epoch 4/20\n",
            "\u001b[1m32/32\u001b[0m \u001b[32m━━━━━━━━━━━━━━━━━━━━\u001b[0m\u001b[37m\u001b[0m \u001b[1m1s\u001b[0m 41ms/step - accuracy: 0.6035 - loss: 0.7933 - val_accuracy: 0.5833 - val_loss: 0.8629\n",
            "Epoch 5/20\n",
            "\u001b[1m32/32\u001b[0m \u001b[32m━━━━━━━━━━━━━━━━━━━━\u001b[0m\u001b[37m\u001b[0m \u001b[1m3s\u001b[0m 42ms/step - accuracy: 0.6393 - loss: 0.7549 - val_accuracy: 0.7024 - val_loss: 0.6203\n",
            "Epoch 6/20\n",
            "\u001b[1m32/32\u001b[0m \u001b[32m━━━━━━━━━━━━━━━━━━━━\u001b[0m\u001b[37m\u001b[0m \u001b[1m3s\u001b[0m 43ms/step - accuracy: 0.6178 - loss: 0.6847 - val_accuracy: 0.6587 - val_loss: 0.7527\n",
            "Epoch 7/20\n",
            "\u001b[1m32/32\u001b[0m \u001b[32m━━━━━━━━━━━━━━━━━━━━\u001b[0m\u001b[37m\u001b[0m \u001b[1m3s\u001b[0m 67ms/step - accuracy: 0.6647 - loss: 0.6860 - val_accuracy: 0.7341 - val_loss: 0.5835\n",
            "Epoch 8/20\n",
            "\u001b[1m32/32\u001b[0m \u001b[32m━━━━━━━━━━━━━━━━━━━━\u001b[0m\u001b[37m\u001b[0m \u001b[1m2s\u001b[0m 42ms/step - accuracy: 0.7143 - loss: 0.5925 - val_accuracy: 0.6706 - val_loss: 0.7103\n",
            "Epoch 9/20\n",
            "\u001b[1m32/32\u001b[0m \u001b[32m━━━━━━━━━━━━━━━━━━━━\u001b[0m\u001b[37m\u001b[0m \u001b[1m3s\u001b[0m 47ms/step - accuracy: 0.6100 - loss: 0.7557 - val_accuracy: 0.6468 - val_loss: 0.6681\n",
            "Epoch 10/20\n",
            "\u001b[1m32/32\u001b[0m \u001b[32m━━━━━━━━━━━━━━━━━━━━\u001b[0m\u001b[37m\u001b[0m \u001b[1m3s\u001b[0m 50ms/step - accuracy: 0.6567 - loss: 0.6348 - val_accuracy: 0.6548 - val_loss: 0.6114\n",
            "\u001b[1m8/8\u001b[0m \u001b[32m━━━━━━━━━━━━━━━━━━━━\u001b[0m\u001b[37m\u001b[0m \u001b[1m0s\u001b[0m 12ms/step - accuracy: 0.7086 - loss: 0.6353\n"
          ]
        },
        {
          "output_type": "stream",
          "name": "stderr",
          "text": [
            "WARNING:absl:You are saving your model as an HDF5 file via `model.save()` or `keras.saving.save_model(model)`. This file format is considered legacy. We recommend using instead the native Keras format, e.g. `model.save('my_model.keras')` or `keras.saving.save_model(model, 'my_model.keras')`. \n"
          ]
        },
        {
          "output_type": "stream",
          "name": "stdout",
          "text": [
            "LSTM Test Accuracy: 0.7341269850730896\n",
            "Model and preprocessing files saved!\n",
            "\u001b[1m8/8\u001b[0m \u001b[32m━━━━━━━━━━━━━━━━━━━━\u001b[0m\u001b[37m\u001b[0m \u001b[1m0s\u001b[0m 26ms/step\n",
            "Classification Report:\n",
            "               precision    recall  f1-score   support\n",
            "\n",
            "           0       0.82      0.90      0.86        84\n",
            "           1       0.92      0.39      0.55        84\n",
            "           2       0.62      0.90      0.73        84\n",
            "\n",
            "    accuracy                           0.73       252\n",
            "   macro avg       0.78      0.73      0.71       252\n",
            "weighted avg       0.78      0.73      0.71       252\n",
            "\n"
          ]
        },
        {
          "output_type": "display_data",
          "data": {
            "text/plain": [
              "<Figure size 600x400 with 2 Axes>"
            ],
            "image/png": "[encoded data removed]"
          },
          "metadata": {}
        }
      ]
    }
  ]
}